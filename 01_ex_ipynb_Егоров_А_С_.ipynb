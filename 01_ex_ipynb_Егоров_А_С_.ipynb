{
  "cells": [
    {
      "cell_type": "markdown",
      "metadata": {
        "id": "Jyrf8xk3k6Ys"
      },
      "source": [
        "# Лабораторная работа к лекции 1\n",
        "Ваше имя: Егоров Андрей Сергеевич\n",
        "\n",
        "Ваш адрес электронной почты:Egorov_AS@mgpu.ru"
      ]
    },
    {
      "cell_type": "markdown",
      "metadata": {
        "id": "86N7viRzk6Yt"
      },
      "source": [
        "## Упражнение 1.1. Типы данных и операции\n",
        "1. Определите две переменные и присвойте первой целое число, а второй — число с плавающей запятой. Определите новую переменную и присвойте сумму двух предыдущих переменных. Каков тип данных третьей переменной?\n",
        "2. Переназначьте переменную с другим типом данных, например, возьмите одну из числовых переменных и присвойте ей строку. Какой новый тип данных?\n",
        "3. Посмотрите, что произойдет, если вы попытаетесь добавить строку к строке.\n",
        "4. Посмотрите, что произойдет, если вы добавите строку к числу с плавающей запятой или целому числу."
      ]
    },
    {
      "cell_type": "code",
      "execution_count": 59,
      "metadata": {
        "id": "9ZgZCUPNk6Yt",
        "colab": {
          "base_uri": "https://localhost:8080/",
          "height": 263
        },
        "outputId": "e2e58b12-a130-4bff-fda7-854c267c2014"
      },
      "outputs": [
        {
          "output_type": "stream",
          "name": "stdout",
          "text": [
            "Вычисление суммы переменных 14.5\n",
            "Вывод типа данных третьей переменной <class 'float'>\n",
            "Вывод нового типа данных <class 'str'>\n",
            "Helloworld\n"
          ]
        },
        {
          "output_type": "error",
          "ename": "TypeError",
          "evalue": "unsupported operand type(s) for +: 'float' and 'str'",
          "traceback": [
            "\u001b[0;31m---------------------------------------------------------------------------\u001b[0m",
            "\u001b[0;31mTypeError\u001b[0m                                 Traceback (most recent call last)",
            "\u001b[0;32m<ipython-input-59-c6fb6bc56b58>\u001b[0m in \u001b[0;36m<cell line: 26>\u001b[0;34m()\u001b[0m\n\u001b[1;32m     24\u001b[0m \u001b[0;31m# Пункт 4\u001b[0m\u001b[0;34m\u001b[0m\u001b[0;34m\u001b[0m\u001b[0m\n\u001b[1;32m     25\u001b[0m \u001b[0;31m# Добавление строки к числу с плавающей запятой или целому числу\u001b[0m\u001b[0;34m\u001b[0m\u001b[0;34m\u001b[0m\u001b[0m\n\u001b[0;32m---> 26\u001b[0;31m \u001b[0msumma\u001b[0m \u001b[0;34m=\u001b[0m \u001b[0msecond\u001b[0m \u001b[0;34m+\u001b[0m \u001b[0mstring_1\u001b[0m\u001b[0;34m\u001b[0m\u001b[0;34m\u001b[0m\u001b[0m\n\u001b[0m\u001b[1;32m     27\u001b[0m \u001b[0mprint\u001b[0m\u001b[0;34m(\u001b[0m\u001b[0msumma\u001b[0m\u001b[0;34m)\u001b[0m\u001b[0;34m\u001b[0m\u001b[0;34m\u001b[0m\u001b[0m\n",
            "\u001b[0;31mTypeError\u001b[0m: unsupported operand type(s) for +: 'float' and 'str'"
          ]
        }
      ],
      "source": [
        "# Пункт 1\n",
        "# Определение переменных\n",
        "first = 10\n",
        "second = 4.5\n",
        "# Вычисление суммы переменных\n",
        "third = first + second\n",
        "print('Вычисление суммы переменных', third)\n",
        "# Вывод типа данных третьей переменной\n",
        "print('Вывод типа данных третьей переменной', type(third))  # <class 'float'>\n",
        "\n",
        "# Пункт 2\n",
        "# Переназначение переменной с другим типом данных\n",
        "first = '10'\n",
        "# Вывод нового типа данных\n",
        "print('Вывод нового типа данных', type(first))  # <class 'str'>\n",
        "\n",
        "# Пункт 3\n",
        "# Добавление строки к строке\n",
        "string_1 = \"Hello\"\n",
        "string_2 = \"world\"\n",
        "concatenated_string = string_1 + string_2\n",
        "print(concatenated_string)  # HelloWorld\n",
        "\n",
        "# Пункт 4\n",
        "# Добавление строки к числу с плавающей запятой или целому числу\n",
        "summa = second + string_1\n",
        "print(summa)"
      ]
    },
    {
      "cell_type": "markdown",
      "metadata": {
        "id": "ZMoobyT-k6Yu"
      },
      "source": [
        "## Упражнение 1.2. Запуск программ\n",
        "\n",
        "  * Создайте новый файл Python(или файл с расширением `.ipynb`) и используйте функцию `double_number` в качестве шаблона. Измените код, чтобы добавить два числа вместо удвоения одного числа.\n",
        "  * Можете ли вы догадаться, что произойдет, если изменить отступ? Выполните данное действие.\n",
        "  * Попробуйте, что произойдет, если вы напечатаете `a` в самом конце программы. Пояснить, что происходит?\n",
        " [Текст ссылки](https://)"
      ]
    },
    {
      "cell_type": "code",
      "source": [
        "def double_number(b, c):\n",
        "  return b + c\n",
        "\n",
        "print(double_number(5, 9))\n",
        "print(double_number(7.8, 10))\n",
        "\n",
        "# Выдает ошибку, поскольку return используется вне функции.\n",
        "# Вместо a возьмем d для корректности задания\n",
        "def double_number(d):\n",
        "  d *= 2\n",
        "  return d\n",
        "print(d)"
      ],
      "metadata": {
        "colab": {
          "base_uri": "https://localhost:8080/",
          "height": 211
        },
        "id": "aGH9f64-4jBE",
        "outputId": "82e014d7-3d57-4ba5-f3c0-15f1fd76a7aa"
      },
      "execution_count": 68,
      "outputs": [
        {
          "output_type": "stream",
          "name": "stdout",
          "text": [
            "14\n",
            "17.8\n"
          ]
        },
        {
          "output_type": "error",
          "ename": "NameError",
          "evalue": "name 'd' is not defined",
          "traceback": [
            "\u001b[0;31m---------------------------------------------------------------------------\u001b[0m",
            "\u001b[0;31mNameError\u001b[0m                                 Traceback (most recent call last)",
            "\u001b[0;32m<ipython-input-68-dc0ec7c4fd79>\u001b[0m in \u001b[0;36m<cell line: 12>\u001b[0;34m()\u001b[0m\n\u001b[1;32m     10\u001b[0m   \u001b[0md\u001b[0m \u001b[0;34m*=\u001b[0m \u001b[0;36m2\u001b[0m\u001b[0;34m\u001b[0m\u001b[0;34m\u001b[0m\u001b[0m\n\u001b[1;32m     11\u001b[0m   \u001b[0;32mreturn\u001b[0m \u001b[0md\u001b[0m\u001b[0;34m\u001b[0m\u001b[0;34m\u001b[0m\u001b[0m\n\u001b[0;32m---> 12\u001b[0;31m \u001b[0mprint\u001b[0m\u001b[0;34m(\u001b[0m\u001b[0md\u001b[0m\u001b[0;34m)\u001b[0m\u001b[0;34m\u001b[0m\u001b[0;34m\u001b[0m\u001b[0m\n\u001b[0m",
            "\u001b[0;31mNameError\u001b[0m: name 'd' is not defined"
          ]
        }
      ]
    },
    {
      "cell_type": "markdown",
      "metadata": {
        "id": "15GtjpzGk6Yu"
      },
      "source": [
        "## Упражнение 1.3. Создание ячеек, выполнение кода\n",
        "\n",
        "1. Создайте новую ячейку кода ниже, где вы определите переменные, содержащие ваше имя, ваш возраст  и вашу специальность.\n",
        "2. Создайте еще одну ячейку, использующую эти переменные, и выведите объединенную строку с указанием вашего имени, специальности и возраста в годах, месяцах и днях (при условии, что сегодня ваш день рождения). Вывод должен выглядеть так:\n",
        "\n",
        "```\n",
        "Имя: Кот-ученый, Специальность: Бизнес-Информатика, Возраст: 18 лет, или 216 месяцев, или 6480 дней..\n",
        "```"
      ]
    },
    {
      "cell_type": "code",
      "source": [
        "name = 'Егоров Андрей Сергеевич'\n",
        "age = 20\n",
        "spec = 'Бизнес-информатика'\n",
        "print(f'Имя: {name}, Специальность: {spec}, Возраст: {age} лет, или {age * 12} месяцев, или {age*365} дней...')"
      ],
      "metadata": {
        "id": "LhZ94eKapyH5",
        "colab": {
          "base_uri": "https://localhost:8080/"
        },
        "outputId": "20b52d08-a45f-4690-cd12-16e0e18629ef"
      },
      "execution_count": 61,
      "outputs": [
        {
          "output_type": "stream",
          "name": "stdout",
          "text": [
            "Имя: Егоров Андрей Сергеевич, Специальность: Бизнес-информатика, Возраст: 20 лет, или 240 месяцев, или 7300 дней...\n"
          ]
        }
      ]
    },
    {
      "cell_type": "markdown",
      "metadata": {
        "id": "bPTBzjXhk6Yu"
      },
      "source": [
        "## Упражнение 1.4: Функции\n",
        "Напишите функцию, которая\n",
        "  * принимает две числовые переменные\n",
        "  * умножает их друг на друга\n",
        "  * делит их на числовую переменную, определенную в области видимости вне функции\n",
        "  * и возвращает результат.\n",
        "\n",
        "Выведите результат функции для трех разных наборов входных переменных."
      ]
    },
    {
      "cell_type": "code",
      "execution_count": 62,
      "metadata": {
        "id": "z7DKIUQCk6Yu",
        "colab": {
          "base_uri": "https://localhost:8080/"
        },
        "outputId": "5d7276cb-1abc-4de9-c605-a36cc7c44509"
      },
      "outputs": [
        {
          "output_type": "stream",
          "name": "stdout",
          "text": [
            "25.0\n",
            "12.75\n",
            "37.2\n"
          ]
        }
      ],
      "source": [
        "def fun(num1, num2):\n",
        "    num = 2\n",
        "    result = (num1 * num2) / num\n",
        "    return result\n",
        "\n",
        "# Первый набор входных переменных\n",
        "num1 = 5\n",
        "num2 = 10\n",
        "print(fun(num1, num2))\n",
        "\n",
        "# Второй набор входных переменных\n",
        "num1 = 8.5\n",
        "num2 = 3\n",
        "print(fun(num1, num2))\n",
        "\n",
        "# Третий набор входных переменных\n",
        "num1 = 12.4\n",
        "num2 = 6\n",
        "print(fun(num1, num2))"
      ]
    },
    {
      "cell_type": "markdown",
      "metadata": {
        "id": "f_ooKyuloEqR"
      },
      "source": [
        "## Упражнение 1.5*\n",
        "\n",
        "Есть некоторые данные о количестве книг, прочитанных разными людьми, работающими в книжном магазине Владимира. Создайте код Python, который учитывает каждого человека и выводит, сколько книг он прочитал. Если кто-то прочитал 0 книг, выведите «___ не читал ни одной книги!» вместо количества книг."
      ]
    },
    {
      "cell_type": "code",
      "execution_count": 63,
      "metadata": {
        "id": "aExXRnNMoEqR"
      },
      "outputs": [],
      "source": [
        "people = ['Krishnang', 'Steve', 'Jimmy', 'Mary', 'Divya', 'Robert', 'Yulia']\n",
        "books_read = [12, 6, 0, 7, 4, 10, 15]"
      ]
    },
    {
      "cell_type": "markdown",
      "metadata": {
        "id": "OXIZYNpmoEqS"
      },
      "source": [
        "Существует несколько способов решить эту задачу: можно изучить функцию `zip()`, использовать `enumerate()`, `range` и `len` или использовать другие методы. Чтобы напечатать имена и значения, вы можете использовать конкатенацию строк (+), форматирование f-строки или другие методы."
      ]
    },
    {
      "cell_type": "code",
      "execution_count": 64,
      "metadata": {
        "id": "T0c7RGbWoEqS",
        "colab": {
          "base_uri": "https://localhost:8080/"
        },
        "outputId": "90184c17-4aa0-4baf-d1d2-00af0eb2b50c"
      },
      "outputs": [
        {
          "output_type": "stream",
          "name": "stdout",
          "text": [
            "Krishnang прочитал 12 книг\n",
            "Steve прочитал 6 книг\n",
            "Jimmy не читал ни одной книги!\n",
            "Mary прочитал 7 книг\n",
            "Divya прочитал 4 книг\n",
            "Robert прочитал 10 книг\n",
            "Yulia прочитал 15 книг\n"
          ]
        }
      ],
      "source": [
        "for person, books in zip(people, books_read):\n",
        "    if books == 0:\n",
        "        print(f'{person} не читал ни одной книги!')\n",
        "    else:\n",
        "        print(f'{person} прочитал {books} книг')"
      ]
    },
    {
      "cell_type": "markdown",
      "metadata": {
        "id": "bYxS7i07oEqS"
      },
      "source": [
        "Преобразуйте только что созданный цикл в функцию, которая принимает два списка (прочитанные книги и людей) в качестве аргументов."
      ]
    },
    {
      "cell_type": "code",
      "execution_count": 65,
      "metadata": {
        "id": "Ot15N739oEqT",
        "colab": {
          "base_uri": "https://localhost:8080/"
        },
        "outputId": "b389d1e8-0cda-4d5d-e544-7d54bfbafa90"
      },
      "outputs": [
        {
          "output_type": "stream",
          "name": "stdout",
          "text": [
            "Krishnang прочитал 12 книг\n",
            "Steve прочитал 6 книг\n",
            "Jimmy не читал ни одной книги!\n",
            "Mary прочитал 7 книг\n",
            "Divya прочитал 4 книг\n",
            "Robert прочитал 10 книг\n",
            "Yulia прочитал 15 книг\n"
          ]
        }
      ],
      "source": [
        "def print_books_read(people_list, books_read_list):\n",
        "    for person, books in zip(people_list, books_read_list):\n",
        "        if books == 0:\n",
        "            print(f'{person} не читал ни одной книги!')\n",
        "        else:\n",
        "            print(f'{person} прочитал {books} книг')\n",
        "\n",
        "people = ['Krishnang', 'Steve', 'Jimmy', 'Mary', 'Divya', 'Robert', 'Yulia']\n",
        "books_read = [12, 6, 0, 7, 4, 10, 15]\n",
        "\n",
        "print_books_read(people, books_read)"
      ]
    },
    {
      "cell_type": "markdown",
      "metadata": {
        "id": "eLhRbc57oEqT"
      },
      "source": [
        "Отсортируйте значения `books_read` от большего к меньшему и выведите трех первых людей с количеством прочитанных ими книг. Некоторые возможные способы решения этой задачи включают использование сортировки аргументов `NumPy`, создание словаря и создание кортежей."
      ]
    },
    {
      "cell_type": "code",
      "execution_count": 66,
      "metadata": {
        "id": "u64-EFsuoEqT",
        "colab": {
          "base_uri": "https://localhost:8080/"
        },
        "outputId": "c698ba66-b4e1-4b99-81c7-bb2e4d646ee9"
      },
      "outputs": [
        {
          "output_type": "stream",
          "name": "stdout",
          "text": [
            "{'Yulia'} {15}\n",
            "{'Krishnang'} {12}\n",
            "{'Robert'} {10}\n"
          ]
        }
      ],
      "source": [
        "import numpy as np\n",
        "people = ['Krishnang', 'Steve', 'Jimmy', 'Mary', 'Divya', 'Robert', 'Yulia']\n",
        "books_read = [12, 6, 0, 7, 4, 10, 15]\n",
        "sorted_indices = np.argsort(books_read)[::-1]\n",
        "\n",
        "for i in range(3):\n",
        "  idx = sorted_indices[i]\n",
        "  print({people[idx]}, {books_read[idx]})"
      ]
    }
  ],
  "metadata": {
    "colab": {
      "provenance": []
    },
    "kernelspec": {
      "display_name": "Python 3 (ipykernel)",
      "language": "python",
      "name": "python3"
    },
    "language_info": {
      "codemirror_mode": {
        "name": "ipython",
        "version": 3
      },
      "file_extension": ".py",
      "mimetype": "text/x-python",
      "name": "python",
      "nbconvert_exporter": "python",
      "pygments_lexer": "ipython3",
      "version": "3.9.13"
    }
  },
  "nbformat": 4,
  "nbformat_minor": 0
}